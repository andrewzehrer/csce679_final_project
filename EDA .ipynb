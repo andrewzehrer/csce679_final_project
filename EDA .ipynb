{
 "cells": [
  {
   "cell_type": "code",
   "execution_count": 1,
   "id": "42cdab81",
   "metadata": {},
   "outputs": [],
   "source": [
    "from nba_api.stats.endpoints import playergamelog\n",
    "from nba_api.stats.static import players\n",
    "import pandas as pd\n",
    "import time"
   ]
  },
  {
   "cell_type": "markdown",
   "id": "2c076cdc",
   "metadata": {},
   "source": [
    "# Research Question"
   ]
  },
  {
   "cell_type": "markdown",
   "id": "7ee0f8f8",
   "metadata": {},
   "source": [
    "How Consistent do NBA Players Perform across different games?"
   ]
  },
  {
   "cell_type": "code",
   "execution_count": 2,
   "id": "bae3a917",
   "metadata": {},
   "outputs": [],
   "source": [
    "def get_player_id(name):\n",
    "    player_dict = players.find_players_by_full_name(name)\n",
    "    return player_dict[0]['id'] if player_dict else None\n",
    "\n",
    "def get_player_game_logs(player_name, season='2023-24'):\n",
    "    player_id = get_player_id(player_name)\n",
    "    if not player_id:\n",
    "        print(f\"No player found with name {player_name}\")\n",
    "        return None\n",
    "\n",
    "    logs = playergamelog.PlayerGameLog(player_id=player_id, season=season, season_type_all_star='Regular Season')\n",
    "    df = logs.get_data_frames()[0]\n",
    "    return df"
   ]
  },
  {
   "cell_type": "code",
   "execution_count": 3,
   "id": "84fb845e",
   "metadata": {},
   "outputs": [],
   "source": [
    "player_name = 'Stephen Curry'  # You can change this\n",
    "game_logs = get_player_game_logs(player_name)"
   ]
  },
  {
   "cell_type": "code",
   "execution_count": 4,
   "id": "869006d7",
   "metadata": {},
   "outputs": [
    {
     "name": "stderr",
     "output_type": "stream",
     "text": [
      "C:\\Users\\ericz\\AppData\\Local\\Temp\\ipykernel_6956\\2018404500.py:1: UserWarning: Could not infer format, so each element will be parsed individually, falling back to `dateutil`. To ensure parsing is consistent and as-expected, please specify a format.\n",
      "  game_logs['GAME_DATE'] = pd.to_datetime(game_logs['GAME_DATE'])\n"
     ]
    }
   ],
   "source": [
    "game_logs['GAME_DATE'] = pd.to_datetime(game_logs['GAME_DATE'])\n",
    "game_logs['HOME'] = game_logs['MATCHUP'].apply(lambda x: 'vs.' in x)\n",
    "game_logs['OPPONENT'] = game_logs['MATCHUP'].apply(lambda x: x.split()[-1])"
   ]
  },
  {
   "cell_type": "code",
   "execution_count": 5,
   "id": "7c1ce5c3",
   "metadata": {},
   "outputs": [
    {
     "data": {
      "text/html": [
       "<div>\n",
       "<style scoped>\n",
       "    .dataframe tbody tr th:only-of-type {\n",
       "        vertical-align: middle;\n",
       "    }\n",
       "\n",
       "    .dataframe tbody tr th {\n",
       "        vertical-align: top;\n",
       "    }\n",
       "\n",
       "    .dataframe thead th {\n",
       "        text-align: right;\n",
       "    }\n",
       "</style>\n",
       "<table border=\"1\" class=\"dataframe\">\n",
       "  <thead>\n",
       "    <tr style=\"text-align: right;\">\n",
       "      <th></th>\n",
       "      <th>GAME_DATE</th>\n",
       "      <th>MATCHUP</th>\n",
       "      <th>HOME</th>\n",
       "      <th>OPPONENT</th>\n",
       "      <th>PTS</th>\n",
       "      <th>REB</th>\n",
       "      <th>AST</th>\n",
       "      <th>FG_PCT</th>\n",
       "      <th>PLUS_MINUS</th>\n",
       "    </tr>\n",
       "  </thead>\n",
       "  <tbody>\n",
       "    <tr>\n",
       "      <th>0</th>\n",
       "      <td>2024-04-12</td>\n",
       "      <td>GSW vs. NOP</td>\n",
       "      <td>True</td>\n",
       "      <td>NOP</td>\n",
       "      <td>33</td>\n",
       "      <td>4</td>\n",
       "      <td>5</td>\n",
       "      <td>0.522</td>\n",
       "      <td>-8</td>\n",
       "    </tr>\n",
       "    <tr>\n",
       "      <th>1</th>\n",
       "      <td>2024-04-11</td>\n",
       "      <td>GSW @ POR</td>\n",
       "      <td>False</td>\n",
       "      <td>POR</td>\n",
       "      <td>22</td>\n",
       "      <td>7</td>\n",
       "      <td>8</td>\n",
       "      <td>0.364</td>\n",
       "      <td>7</td>\n",
       "    </tr>\n",
       "    <tr>\n",
       "      <th>2</th>\n",
       "      <td>2024-04-09</td>\n",
       "      <td>GSW @ LAL</td>\n",
       "      <td>False</td>\n",
       "      <td>LAL</td>\n",
       "      <td>23</td>\n",
       "      <td>7</td>\n",
       "      <td>8</td>\n",
       "      <td>0.778</td>\n",
       "      <td>13</td>\n",
       "    </tr>\n",
       "    <tr>\n",
       "      <th>3</th>\n",
       "      <td>2024-04-05</td>\n",
       "      <td>GSW @ DAL</td>\n",
       "      <td>False</td>\n",
       "      <td>DAL</td>\n",
       "      <td>28</td>\n",
       "      <td>6</td>\n",
       "      <td>5</td>\n",
       "      <td>0.391</td>\n",
       "      <td>-5</td>\n",
       "    </tr>\n",
       "    <tr>\n",
       "      <th>4</th>\n",
       "      <td>2024-04-04</td>\n",
       "      <td>GSW @ HOU</td>\n",
       "      <td>False</td>\n",
       "      <td>HOU</td>\n",
       "      <td>29</td>\n",
       "      <td>6</td>\n",
       "      <td>6</td>\n",
       "      <td>0.643</td>\n",
       "      <td>29</td>\n",
       "    </tr>\n",
       "  </tbody>\n",
       "</table>\n",
       "</div>"
      ],
      "text/plain": [
       "   GAME_DATE      MATCHUP   HOME OPPONENT  PTS  REB  AST  FG_PCT  PLUS_MINUS\n",
       "0 2024-04-12  GSW vs. NOP   True      NOP   33    4    5   0.522          -8\n",
       "1 2024-04-11    GSW @ POR  False      POR   22    7    8   0.364           7\n",
       "2 2024-04-09    GSW @ LAL  False      LAL   23    7    8   0.778          13\n",
       "3 2024-04-05    GSW @ DAL  False      DAL   28    6    5   0.391          -5\n",
       "4 2024-04-04    GSW @ HOU  False      HOU   29    6    6   0.643          29"
      ]
     },
     "execution_count": 5,
     "metadata": {},
     "output_type": "execute_result"
    }
   ],
   "source": [
    "game_logs[['GAME_DATE', 'MATCHUP', 'HOME', 'OPPONENT', 'PTS', 'REB', 'AST', 'FG_PCT', 'PLUS_MINUS']].head()"
   ]
  },
  {
   "cell_type": "code",
   "execution_count": 6,
   "id": "2886c521",
   "metadata": {},
   "outputs": [
    {
     "name": "stdout",
     "output_type": "stream",
     "text": [
      "Home vs Away Averages:\n",
      "             PTS    FG_PCT       REB       AST\n",
      "HOME                                          \n",
      "False  25.657895  0.441816  4.605263  5.578947\n",
      "True   27.250000  0.447111  4.305556  4.638889\n"
     ]
    }
   ],
   "source": [
    "home_away = game_logs.groupby('HOME')[['PTS', 'FG_PCT', 'REB', 'AST']].mean()\n",
    "print(\"Home vs Away Averages:\")\n",
    "print(home_away)"
   ]
  },
  {
   "cell_type": "code",
   "execution_count": 7,
   "id": "596ae107",
   "metadata": {},
   "outputs": [
    {
     "name": "stdout",
     "output_type": "stream",
     "text": [
      "Statistical Variability (Standard Deviation):\n",
      "PTS    9.583206\n",
      "REB    2.382523\n",
      "AST    2.421098\n",
      "dtype: float64\n"
     ]
    }
   ],
   "source": [
    "consistency = game_logs[['PTS', 'REB', 'AST']].std()\n",
    "print(\"Statistical Variability (Standard Deviation):\")\n",
    "print(consistency)"
   ]
  },
  {
   "cell_type": "code",
   "execution_count": 8,
   "id": "417f209a",
   "metadata": {},
   "outputs": [
    {
     "data": {
      "text/html": [
       "<div>\n",
       "<style scoped>\n",
       "    .dataframe tbody tr th:only-of-type {\n",
       "        vertical-align: middle;\n",
       "    }\n",
       "\n",
       "    .dataframe tbody tr th {\n",
       "        vertical-align: top;\n",
       "    }\n",
       "\n",
       "    .dataframe thead th {\n",
       "        text-align: right;\n",
       "    }\n",
       "</style>\n",
       "<table border=\"1\" class=\"dataframe\">\n",
       "  <thead>\n",
       "    <tr style=\"text-align: right;\">\n",
       "      <th></th>\n",
       "      <th>PTS</th>\n",
       "      <th>FG_PCT</th>\n",
       "    </tr>\n",
       "    <tr>\n",
       "      <th>OPPONENT</th>\n",
       "      <th></th>\n",
       "      <th></th>\n",
       "    </tr>\n",
       "  </thead>\n",
       "  <tbody>\n",
       "    <tr>\n",
       "      <th>ATL</th>\n",
       "      <td>42.500000</td>\n",
       "      <td>0.508500</td>\n",
       "    </tr>\n",
       "    <tr>\n",
       "      <th>MIN</th>\n",
       "      <td>34.500000</td>\n",
       "      <td>0.434500</td>\n",
       "    </tr>\n",
       "    <tr>\n",
       "      <th>SAS</th>\n",
       "      <td>34.000000</td>\n",
       "      <td>0.536000</td>\n",
       "    </tr>\n",
       "    <tr>\n",
       "      <th>IND</th>\n",
       "      <td>33.500000</td>\n",
       "      <td>0.528500</td>\n",
       "    </tr>\n",
       "    <tr>\n",
       "      <th>LAL</th>\n",
       "      <td>33.000000</td>\n",
       "      <td>0.566000</td>\n",
       "    </tr>\n",
       "    <tr>\n",
       "      <th>BKN</th>\n",
       "      <td>33.000000</td>\n",
       "      <td>0.568000</td>\n",
       "    </tr>\n",
       "    <tr>\n",
       "      <th>SAC</th>\n",
       "      <td>31.000000</td>\n",
       "      <td>0.526000</td>\n",
       "    </tr>\n",
       "    <tr>\n",
       "      <th>NOP</th>\n",
       "      <td>30.000000</td>\n",
       "      <td>0.504000</td>\n",
       "    </tr>\n",
       "    <tr>\n",
       "      <th>DET</th>\n",
       "      <td>30.000000</td>\n",
       "      <td>0.415000</td>\n",
       "    </tr>\n",
       "    <tr>\n",
       "      <th>OKC</th>\n",
       "      <td>29.666667</td>\n",
       "      <td>0.493667</td>\n",
       "    </tr>\n",
       "  </tbody>\n",
       "</table>\n",
       "</div>"
      ],
      "text/plain": [
       "                PTS    FG_PCT\n",
       "OPPONENT                     \n",
       "ATL       42.500000  0.508500\n",
       "MIN       34.500000  0.434500\n",
       "SAS       34.000000  0.536000\n",
       "IND       33.500000  0.528500\n",
       "LAL       33.000000  0.566000\n",
       "BKN       33.000000  0.568000\n",
       "SAC       31.000000  0.526000\n",
       "NOP       30.000000  0.504000\n",
       "DET       30.000000  0.415000\n",
       "OKC       29.666667  0.493667"
      ]
     },
     "execution_count": 8,
     "metadata": {},
     "output_type": "execute_result"
    }
   ],
   "source": [
    "matchup_perf = game_logs.groupby('OPPONENT')[['PTS', 'FG_PCT']].mean().sort_values('PTS', ascending=False)\n",
    "matchup_perf.head(10)"
   ]
  },
  {
   "cell_type": "code",
   "execution_count": null,
   "id": "2ac3290b",
   "metadata": {},
   "outputs": [],
   "source": []
  }
 ],
 "metadata": {
  "kernelspec": {
   "display_name": "Python 3 (ipykernel)",
   "language": "python",
   "name": "python3"
  },
  "language_info": {
   "codemirror_mode": {
    "name": "ipython",
    "version": 3
   },
   "file_extension": ".py",
   "mimetype": "text/x-python",
   "name": "python",
   "nbconvert_exporter": "python",
   "pygments_lexer": "ipython3",
   "version": "3.11.7"
  }
 },
 "nbformat": 4,
 "nbformat_minor": 5
}
